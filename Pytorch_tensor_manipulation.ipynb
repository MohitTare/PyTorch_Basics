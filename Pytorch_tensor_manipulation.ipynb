{
 "cells": [
  {
   "cell_type": "code",
   "execution_count": 3,
   "metadata": {},
   "outputs": [],
   "source": [
    "import torch\n",
    "import torchvision\n",
    "import torch.nn as nn\n",
    "import numpy as np\n",
    "import matplotlib as mpl\n",
    "import matplotlib.pyplot as plt\n",
    "%matplotlib inline"
   ]
  },
  {
   "cell_type": "markdown",
   "metadata": {},
   "source": [
    "#### Tensor Manipulation and slicing"
   ]
  },
  {
   "cell_type": "markdown",
   "metadata": {},
   "source": [
    "Pytorch Tensors behave in similar fashion as numpy arrays. Lets see how we can perform some basic operations of selection and filtering on them. First lets start with a 2D tensor (matrix) and see how we can select and filter this. Lets create a Double tensor with random initialization"
   ]
  },
  {
   "cell_type": "code",
   "execution_count": 17,
   "metadata": {},
   "outputs": [],
   "source": [
    "a = torch.randn(7, 7, dtype=torch.double)"
   ]
  },
  {
   "cell_type": "code",
   "execution_count": 18,
   "metadata": {},
   "outputs": [
    {
     "data": {
      "text/plain": [
       "tensor([[ 0.0669, -0.2744, -0.2051,  0.2764,  0.2687,  0.0984, -0.7497],\n",
       "        [ 0.2483, -0.7726,  0.3637, -0.6304, -0.7125, -0.1292,  0.4399],\n",
       "        [ 0.3615, -2.2000, -1.3339,  1.7663, -0.4815,  0.4029, -0.6994],\n",
       "        [ 1.5102, -1.4875,  1.1478,  0.3839,  0.2554,  0.1263,  1.1794],\n",
       "        [-0.0152, -0.6145,  0.0674, -1.7087, -0.4047, -0.7731,  1.7592],\n",
       "        [ 1.8214,  1.7345, -1.4847, -0.8724, -1.7652, -2.4989,  1.3298],\n",
       "        [ 0.8138, -1.2219, -4.0511,  0.3764,  0.0747,  0.6508, -0.6348]], dtype=torch.float64)"
      ]
     },
     "execution_count": 18,
     "metadata": {},
     "output_type": "execute_result"
    }
   ],
   "source": [
    "a"
   ]
  },
  {
   "cell_type": "code",
   "execution_count": 19,
   "metadata": {},
   "outputs": [],
   "source": [
    "a[:, :] = 0   # Assign zeros everywhere in the matrix.\n",
    "a[3, 3] = 1   # Assign one in position 3, 3"
   ]
  },
  {
   "cell_type": "code",
   "execution_count": 20,
   "metadata": {},
   "outputs": [
    {
     "data": {
      "text/plain": [
       "tensor([[ 0.,  0.,  0.,  0.,  0.,  0.,  0.],\n",
       "        [ 0.,  0.,  0.,  0.,  0.,  0.,  0.],\n",
       "        [ 0.,  0.,  0.,  0.,  0.,  0.,  0.],\n",
       "        [ 0.,  0.,  0.,  1.,  0.,  0.,  0.],\n",
       "        [ 0.,  0.,  0.,  0.,  0.,  0.,  0.],\n",
       "        [ 0.,  0.,  0.,  0.,  0.,  0.,  0.],\n",
       "        [ 0.,  0.,  0.,  0.,  0.,  0.,  0.]], dtype=torch.float64)"
      ]
     },
     "execution_count": 20,
     "metadata": {},
     "output_type": "execute_result"
    }
   ],
   "source": [
    "a"
   ]
  },
  {
   "cell_type": "code",
   "execution_count": 21,
   "metadata": {},
   "outputs": [],
   "source": [
    "def showTensor(tmp):\n",
    "    plt.figure()\n",
    "    plt.imshow(tmp.numpy(),cmap = 'gray')\n",
    "    plt.colorbar()\n",
    "    plt.show()"
   ]
  },
  {
   "cell_type": "code",
   "execution_count": 22,
   "metadata": {},
   "outputs": [
    {
     "data": {
      "image/png": "[encoded data removed]",
      "text/plain": [
       "<Figure size 432x288 with 2 Axes>"
      ]
     },
     "metadata": {},
     "output_type": "display_data"
    }
   ],
   "source": [
    "showTensor(a)"
   ]
  },
  {
   "cell_type": "markdown",
   "metadata": {},
   "source": [
    "Here 1 corresponds to white color and 0 is black color. \n",
    "Since we have assigned only element (3rd Row , 3rd column) as 1, and other as 0 we have only white for middle of matrix.\n",
    "\n",
    "Similar to assigning 1 element we can slice and assign values to a subset of matrix also"
   ]
  },
  {
   "cell_type": "code",
   "execution_count": 23,
   "metadata": {},
   "outputs": [],
   "source": [
    "a[:, :] = 0   # Assign zeros everywhere in the matrix.\n",
    "a[:2, :] = 1   # Assign ones on the top 2 rows.\n",
    "a[-2:, :] = 1    # Assign ones on the bottom 2 rows."
   ]
  },
  {
   "cell_type": "code",
   "execution_count": 25,
   "metadata": {},
   "outputs": [
    {
     "data": {
      "text/plain": [
       "tensor([[ 1.,  1.,  1.,  1.,  1.,  1.,  1.],\n",
       "        [ 1.,  1.,  1.,  1.,  1.,  1.,  1.],\n",
       "        [ 0.,  0.,  0.,  0.,  0.,  0.,  0.],\n",
       "        [ 0.,  0.,  0.,  0.,  0.,  0.,  0.],\n",
       "        [ 0.,  0.,  0.,  0.,  0.,  0.,  0.],\n",
       "        [ 1.,  1.,  1.,  1.,  1.,  1.,  1.],\n",
       "        [ 1.,  1.,  1.,  1.,  1.,  1.,  1.]], dtype=torch.float64)"
      ]
     },
     "execution_count": 25,
     "metadata": {},
     "output_type": "execute_result"
    }
   ],
   "source": [
    "a"
   ]
  },
  {
   "cell_type": "code",
   "execution_count": 24,
   "metadata": {},
   "outputs": [
    {
     "data": {
      "image/png": "[encoded data removed]",
      "text/plain": [
       "<Figure size 432x288 with 2 Axes>"
      ]
     },
     "metadata": {},
     "output_type": "display_data"
    }
   ],
   "source": [
    "showTensor(a)"
   ]
  },
  {
   "cell_type": "markdown",
   "metadata": {},
   "source": [
    "Now lets see how we can manipulate higher order (3D and more) tensors. Lets start with "
   ]
  },
  {
   "cell_type": "code",
   "execution_count": 5,
   "metadata": {},
   "outputs": [
    {
     "name": "stdout",
     "output_type": "stream",
     "text": [
      "Files already downloaded and verified\n"
     ]
    }
   ],
   "source": [
    "# Get the CIFAR10 train images , download if necessary\n",
    "cifar_dt = torchvision.datasets.CIFAR10 ('data/', train = True , download = True )"
   ]
  },
  {
   "cell_type": "code",
   "execution_count": 6,
   "metadata": {},
   "outputs": [
    {
     "data": {
      "text/plain": [
       "(50000, 32, 32, 3)"
      ]
     },
     "execution_count": 6,
     "metadata": {},
     "output_type": "execute_result"
    }
   ],
   "source": [
    "cifar_dt.train_data.shape"
   ]
  },
  {
   "cell_type": "markdown",
   "metadata": {},
   "source": [
    "This code has 50000 images of shape 32*32 size. The images present are in RGB format. The images are present as a numpy array. Lets take one image and perform selection and filtering on it"
   ]
  },
  {
   "cell_type": "code",
   "execution_count": 7,
   "metadata": {},
   "outputs": [],
   "source": [
    "b = torch.from_numpy(cifar_dt.train_data[4])"
   ]
  },
  {
   "cell_type": "code",
   "execution_count": 8,
   "metadata": {},
   "outputs": [
    {
     "data": {
      "text/plain": [
       "tensor([[[ 170,  180,  198],\n",
       "         [ 168,  178,  196],\n",
       "         [ 177,  185,  203],\n",
       "         ...,\n",
       "         [ 162,  179,  215],\n",
       "         [ 158,  178,  214],\n",
       "         [ 157,  177,  212]],\n",
       "\n",
       "        [[ 168,  181,  198],\n",
       "         [ 172,  185,  201],\n",
       "         [ 171,  183,  200],\n",
       "         ...,\n",
       "         [ 159,  177,  212],\n",
       "         [ 156,  176,  211],\n",
       "         [ 154,  174,  209]],\n",
       "\n",
       "        [[ 154,  170,  186],\n",
       "         [ 149,  165,  181],\n",
       "         [ 129,  144,  162],\n",
       "         ...,\n",
       "         [ 161,  178,  214],\n",
       "         [ 157,  177,  212],\n",
       "         [ 154,  174,  209]],\n",
       "\n",
       "        ...,\n",
       "\n",
       "        [[  74,   84,   80],\n",
       "         [  76,   85,   81],\n",
       "         [  78,   85,   82],\n",
       "         ...,\n",
       "         [  71,   75,   78],\n",
       "         [  68,   72,   75],\n",
       "         [  61,   65,   68]],\n",
       "\n",
       "        [[  68,   76,   77],\n",
       "         [  69,   77,   78],\n",
       "         [  72,   79,   78],\n",
       "         ...,\n",
       "         [  76,   80,   83],\n",
       "         [  71,   75,   78],\n",
       "         [  71,   75,   78]],\n",
       "\n",
       "        [[  67,   75,   78],\n",
       "         [  68,   76,   79],\n",
       "         [  69,   75,   76],\n",
       "         ...,\n",
       "         [  75,   79,   82],\n",
       "         [  71,   75,   78],\n",
       "         [  73,   77,   80]]], dtype=torch.uint8)"
      ]
     },
     "execution_count": 8,
     "metadata": {},
     "output_type": "execute_result"
    }
   ],
   "source": [
    "b"
   ]
  },
  {
   "cell_type": "code",
   "execution_count": 9,
   "metadata": {},
   "outputs": [
    {
     "data": {
      "text/plain": [
       "<matplotlib.image.AxesImage at 0x1f56f34e390>"
      ]
     },
     "execution_count": 9,
     "metadata": {},
     "output_type": "execute_result"
    },
    {
     "data": {
      "image/png": "[encoded data removed]",
      "text/plain": [
       "<Figure size 432x288 with 1 Axes>"
      ]
     },
     "metadata": {},
     "output_type": "display_data"
    }
   ],
   "source": [
    "plt.imshow(b)"
   ]
  },
  {
   "cell_type": "markdown",
   "metadata": {},
   "source": [
    "This is a 3D tensor/image whose size is 32 x 32 x 3.\n",
    "In this tensor there are 3 values corresponding to Red,Green,Blue channel for 32 x 32 grid corresponding to width and hieght of the image.\n",
    "\n",
    "Now lets perform some selection and filtering operations"
   ]
  },
  {
   "cell_type": "code",
   "execution_count": 57,
   "metadata": {},
   "outputs": [],
   "source": [
    "c = b.clone()"
   ]
  },
  {
   "cell_type": "code",
   "execution_count": 54,
   "metadata": {},
   "outputs": [],
   "source": [
    "c[:10,:,:] = 0 # Assign 0 or black to the first 10 rows and all columns and all channels of the image"
   ]
  },
  {
   "cell_type": "code",
   "execution_count": 56,
   "metadata": {},
   "outputs": [
    {
     "data": {
      "text/plain": [
       "<matplotlib.image.AxesImage at 0x171d7aee128>"
      ]
     },
     "execution_count": 56,
     "metadata": {},
     "output_type": "execute_result"
    },
    {
     "data": {
      "image/png": "[encoded data removed]",
      "text/plain": [
       "<Figure size 432x288 with 1 Axes>"
      ]
     },
     "metadata": {},
     "output_type": "display_data"
    }
   ],
   "source": [
    "plt.imshow(c)"
   ]
  },
  {
   "cell_type": "code",
   "execution_count": 58,
   "metadata": {},
   "outputs": [],
   "source": [
    "c[:,:10,:]  =  0"
   ]
  },
  {
   "cell_type": "code",
   "execution_count": 60,
   "metadata": {},
   "outputs": [
    {
     "data": {
      "text/plain": [
       "tensor([[[   0,    0,    0],\n",
       "         [   0,    0,    0],\n",
       "         [   0,    0,    0],\n",
       "         ...,\n",
       "         [ 162,  179,  215],\n",
       "         [ 158,  178,  214],\n",
       "         [ 157,  177,  212]],\n",
       "\n",
       "        [[   0,    0,    0],\n",
       "         [   0,    0,    0],\n",
       "         [   0,    0,    0],\n",
       "         ...,\n",
       "         [ 159,  177,  212],\n",
       "         [ 156,  176,  211],\n",
       "         [ 154,  174,  209]],\n",
       "\n",
       "        [[   0,    0,    0],\n",
       "         [   0,    0,    0],\n",
       "         [   0,    0,    0],\n",
       "         ...,\n",
       "         [ 161,  178,  214],\n",
       "         [ 157,  177,  212],\n",
       "         [ 154,  174,  209]],\n",
       "\n",
       "        ...,\n",
       "\n",
       "        [[   0,    0,    0],\n",
       "         [   0,    0,    0],\n",
       "         [   0,    0,    0],\n",
       "         ...,\n",
       "         [  71,   75,   78],\n",
       "         [  68,   72,   75],\n",
       "         [  61,   65,   68]],\n",
       "\n",
       "        [[   0,    0,    0],\n",
       "         [   0,    0,    0],\n",
       "         [   0,    0,    0],\n",
       "         ...,\n",
       "         [  76,   80,   83],\n",
       "         [  71,   75,   78],\n",
       "         [  71,   75,   78]],\n",
       "\n",
       "        [[   0,    0,    0],\n",
       "         [   0,    0,    0],\n",
       "         [   0,    0,    0],\n",
       "         ...,\n",
       "         [  75,   79,   82],\n",
       "         [  71,   75,   78],\n",
       "         [  73,   77,   80]]], dtype=torch.uint8)"
      ]
     },
     "execution_count": 60,
     "metadata": {},
     "output_type": "execute_result"
    }
   ],
   "source": [
    "c"
   ]
  },
  {
   "cell_type": "code",
   "execution_count": 59,
   "metadata": {},
   "outputs": [
    {
     "data": {
      "text/plain": [
       "<matplotlib.image.AxesImage at 0x171d7b42a90>"
      ]
     },
     "execution_count": 59,
     "metadata": {},
     "output_type": "execute_result"
    },
    {
     "data": {
      "image/png": "[encoded data removed]",
      "text/plain": [
       "<Figure size 432x288 with 1 Axes>"
      ]
     },
     "metadata": {},
     "output_type": "display_data"
    }
   ],
   "source": [
    "plt.imshow(c)"
   ]
  },
  {
   "cell_type": "markdown",
   "metadata": {},
   "source": [
    "Lets perform a transpose operation and see the transposed image"
   ]
  },
  {
   "cell_type": "code",
   "execution_count": 63,
   "metadata": {},
   "outputs": [
    {
     "data": {
      "text/plain": [
       "<matplotlib.image.AxesImage at 0x171d7bf9fd0>"
      ]
     },
     "execution_count": 63,
     "metadata": {},
     "output_type": "execute_result"
    },
    {
     "data": {
      "image/png": "[encoded data removed]",
      "text/plain": [
       "<Figure size 432x288 with 1 Axes>"
      ]
     },
     "metadata": {},
     "output_type": "display_data"
    }
   ],
   "source": [
    "plt.imshow(c.t())"
   ]
  },
  {
   "cell_type": "markdown",
   "metadata": {},
   "source": [
    "Now if i want to extract only the upper right hand corner 5 grid pixel from the image which is sky of the image. We can do it as below"
   ]
  },
  {
   "cell_type": "code",
   "execution_count": 75,
   "metadata": {},
   "outputs": [
    {
     "data": {
      "text/plain": [
       "tensor([[[ 168,  184,  220],\n",
       "         [ 166,  182,  218],\n",
       "         [ 163,  179,  215],\n",
       "         [ 163,  179,  215],\n",
       "         [ 162,  179,  215],\n",
       "         [ 158,  178,  214],\n",
       "         [ 157,  177,  212]],\n",
       "\n",
       "        [[ 164,  180,  216],\n",
       "         [ 163,  179,  215],\n",
       "         [ 160,  176,  212],\n",
       "         [ 161,  177,  213],\n",
       "         [ 159,  177,  212],\n",
       "         [ 156,  176,  211],\n",
       "         [ 154,  174,  209]],\n",
       "\n",
       "        [[ 163,  179,  215],\n",
       "         [ 163,  179,  215],\n",
       "         [ 160,  176,  212],\n",
       "         [ 162,  178,  214],\n",
       "         [ 161,  178,  214],\n",
       "         [ 157,  177,  212],\n",
       "         [ 154,  174,  209]],\n",
       "\n",
       "        [[ 163,  179,  215],\n",
       "         [ 163,  179,  215],\n",
       "         [ 160,  176,  212],\n",
       "         [ 161,  176,  212],\n",
       "         [ 160,  177,  213],\n",
       "         [ 156,  176,  211],\n",
       "         [ 152,  172,  207]],\n",
       "\n",
       "        [[ 163,  179,  214],\n",
       "         [ 160,  178,  214],\n",
       "         [ 158,  176,  213],\n",
       "         [ 157,  175,  212],\n",
       "         [ 156,  175,  211],\n",
       "         [ 154,  174,  210],\n",
       "         [ 150,  170,  206]]], dtype=torch.uint8)"
      ]
     },
     "execution_count": 75,
     "metadata": {},
     "output_type": "execute_result"
    }
   ],
   "source": [
    "d = c[0:5,25:,:]\n",
    "d"
   ]
  },
  {
   "cell_type": "code",
   "execution_count": 77,
   "metadata": {},
   "outputs": [
    {
     "data": {
      "text/plain": [
       "torch.Size([5, 7, 3])"
      ]
     },
     "execution_count": 77,
     "metadata": {},
     "output_type": "execute_result"
    }
   ],
   "source": [
    "d.shape"
   ]
  },
  {
   "cell_type": "code",
   "execution_count": 76,
   "metadata": {},
   "outputs": [
    {
     "data": {
      "text/plain": [
       "<matplotlib.image.AxesImage at 0x171d7f23da0>"
      ]
     },
     "execution_count": 76,
     "metadata": {},
     "output_type": "execute_result"
    },
    {
     "data": {
      "image/png": "[encoded data removed]",
      "text/plain": [
       "<Figure size 432x288 with 1 Axes>"
      ]
     },
     "metadata": {},
     "output_type": "display_data"
    }
   ],
   "source": [
    "plt.imshow(d)"
   ]
  },
  {
   "cell_type": "markdown",
   "metadata": {},
   "source": [
    "Now lets perform the same operations on 4D tensor. In our case the 4D tensor corresponds to multiple images in a single tensor"
   ]
  },
  {
   "cell_type": "code",
   "execution_count": 10,
   "metadata": {},
   "outputs": [],
   "source": [
    "b = cifar_dt.train_data[:2]\n",
    "b = torch.from_numpy(b)"
   ]
  },
  {
   "cell_type": "code",
   "execution_count": 11,
   "metadata": {},
   "outputs": [
    {
     "data": {
      "text/plain": [
       "torch.Size([2, 32, 32, 3])"
      ]
     },
     "execution_count": 11,
     "metadata": {},
     "output_type": "execute_result"
    }
   ],
   "source": [
    "b.shape"
   ]
  },
  {
   "cell_type": "code",
   "execution_count": 12,
   "metadata": {},
   "outputs": [],
   "source": [
    "def showimgSideBySide(b):\n",
    "    fig,ax = plt.subplots(nrows  = 1,ncols=2)\n",
    "    ax[0].imshow(b[0])\n",
    "    ax[1].imshow(b[1])"
   ]
  },
  {
   "cell_type": "code",
   "execution_count": 13,
   "metadata": {},
   "outputs": [
    {
     "data": {
      "image/png": "[encoded data removed]",
      "text/plain": [
       "<Figure size 432x288 with 2 Axes>"
      ]
     },
     "metadata": {},
     "output_type": "display_data"
    }
   ],
   "source": [
    "showimgSideBySide(b)"
   ]
  },
  {
   "cell_type": "markdown",
   "metadata": {},
   "source": [
    "Now lets transpose the entrire 4D tensor. We will use the built in Pytorch transpose function to do that. We want to transpose the height and width of the image so we will provide 1 and 2 as dimension axes"
   ]
  },
  {
   "cell_type": "code",
   "execution_count": 22,
   "metadata": {},
   "outputs": [],
   "source": [
    "tt =b.transpose(1, 2)"
   ]
  },
  {
   "cell_type": "code",
   "execution_count": 23,
   "metadata": {},
   "outputs": [
    {
     "data": {
      "image/png": "[encoded data removed]",
      "text/plain": [
       "<Figure size 432x288 with 2 Axes>"
      ]
     },
     "metadata": {},
     "output_type": "display_data"
    }
   ],
   "source": [
    "showimgSideBySide(tt)"
   ]
  }
 ],
 "metadata": {
  "kernelspec": {
   "display_name": "Python 3",
   "language": "python",
   "name": "python3"
  },
  "language_info": {
   "codemirror_mode": {
    "name": "ipython",
    "version": 3
   },
   "file_extension": ".py",
   "mimetype": "text/x-python",
   "name": "python",
   "nbconvert_exporter": "python",
   "pygments_lexer": "ipython3",
   "version": "3.6.5"
  }
 },
 "nbformat": 4,
 "nbformat_minor": 2
}
